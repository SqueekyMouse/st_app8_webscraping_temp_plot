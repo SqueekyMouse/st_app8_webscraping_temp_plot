{
 "cells": [
  {
   "cell_type": "code",
   "execution_count": 20,
   "metadata": {},
   "outputs": [],
   "source": [
    "import sqlite3\n",
    "dbconn=sqlite3.connect('data.sqlite')\n",
    "cursor=dbconn.cursor()"
   ]
  },
  {
   "cell_type": "code",
   "execution_count": 21,
   "metadata": {},
   "outputs": [
    {
     "data": {
      "text/plain": [
       "<sqlite3.Cursor at 0x7fd6f2a94440>"
      ]
     },
     "execution_count": 21,
     "metadata": {},
     "output_type": "execute_result"
    }
   ],
   "source": [
    "cursor.execute(\"SELECT * FROM temp\")"
   ]
  },
  {
   "cell_type": "code",
   "execution_count": 22,
   "metadata": {},
   "outputs": [
    {
     "data": {
      "text/plain": [
       "[('23-03-06-00-47-57', '18'),\n",
       " ('23-03-06-00-48-00', '18'),\n",
       " ('23-03-06-00-48-04', '18'),\n",
       " ('23-03-06-00-48-08', '18'),\n",
       " ('23-03-06-00-48-11', '19'),\n",
       " ('23-03-06-00-48-15', '20'),\n",
       " ('23-03-06-00-48-19', '18'),\n",
       " ('23-03-06-00-48-22', '18'),\n",
       " ('23-03-06-00-48-26', '18'),\n",
       " ('23-03-06-00-48-30', '19'),\n",
       " ('23-03-06-00-56-03', '18'),\n",
       " ('23-03-06-00-56-19', '18'),\n",
       " ('23-03-06-00-56-34', '18'),\n",
       " ('23-03-06-00-56-50', '18'),\n",
       " ('23-03-06-00-57-06', '19'),\n",
       " ('23-03-06-00-57-21', '18'),\n",
       " ('23-03-06-00-57-37', '18'),\n",
       " ('23-03-06-00-57-53', '18'),\n",
       " ('23-03-06-00-58-08', '19'),\n",
       " ('23-03-06-00-58-24', '18'),\n",
       " ('23-03-06-00-58-40', '18')]"
      ]
     },
     "execution_count": 22,
     "metadata": {},
     "output_type": "execute_result"
    }
   ],
   "source": [
    "rows=cursor.fetchall()\n",
    "rows"
   ]
  },
  {
   "cell_type": "code",
   "execution_count": 23,
   "metadata": {},
   "outputs": [],
   "source": [
    "temp=[row[1] for row in rows]\n",
    "date=[row[0] for row in rows]"
   ]
  },
  {
   "cell_type": "code",
   "execution_count": 24,
   "metadata": {},
   "outputs": [
    {
     "data": {
      "text/plain": [
       "['18',\n",
       " '18',\n",
       " '18',\n",
       " '18',\n",
       " '19',\n",
       " '20',\n",
       " '18',\n",
       " '18',\n",
       " '18',\n",
       " '19',\n",
       " '18',\n",
       " '18',\n",
       " '18',\n",
       " '18',\n",
       " '19',\n",
       " '18',\n",
       " '18',\n",
       " '18',\n",
       " '19',\n",
       " '18',\n",
       " '18']"
      ]
     },
     "execution_count": 24,
     "metadata": {},
     "output_type": "execute_result"
    }
   ],
   "source": [
    "temp"
   ]
  },
  {
   "cell_type": "code",
   "execution_count": 25,
   "metadata": {},
   "outputs": [
    {
     "data": {
      "text/plain": [
       "['23-03-06-00-47-57',\n",
       " '23-03-06-00-48-00',\n",
       " '23-03-06-00-48-04',\n",
       " '23-03-06-00-48-08',\n",
       " '23-03-06-00-48-11',\n",
       " '23-03-06-00-48-15',\n",
       " '23-03-06-00-48-19',\n",
       " '23-03-06-00-48-22',\n",
       " '23-03-06-00-48-26',\n",
       " '23-03-06-00-48-30',\n",
       " '23-03-06-00-56-03',\n",
       " '23-03-06-00-56-19',\n",
       " '23-03-06-00-56-34',\n",
       " '23-03-06-00-56-50',\n",
       " '23-03-06-00-57-06',\n",
       " '23-03-06-00-57-21',\n",
       " '23-03-06-00-57-37',\n",
       " '23-03-06-00-57-53',\n",
       " '23-03-06-00-58-08',\n",
       " '23-03-06-00-58-24',\n",
       " '23-03-06-00-58-40']"
      ]
     },
     "execution_count": 25,
     "metadata": {},
     "output_type": "execute_result"
    }
   ],
   "source": [
    "date"
   ]
  }
 ],
 "metadata": {
  "kernelspec": {
   "display_name": ".venv",
   "language": "python",
   "name": "python3"
  },
  "language_info": {
   "codemirror_mode": {
    "name": "ipython",
    "version": 3
   },
   "file_extension": ".py",
   "mimetype": "text/x-python",
   "name": "python",
   "nbconvert_exporter": "python",
   "pygments_lexer": "ipython3",
   "version": "3.11.2"
  },
  "orig_nbformat": 4
 },
 "nbformat": 4,
 "nbformat_minor": 2
}
